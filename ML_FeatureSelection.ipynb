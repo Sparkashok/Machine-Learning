{
  "nbformat": 4,
  "nbformat_minor": 0,
  "metadata": {
    "colab": {
      "provenance": [],
      "authorship_tag": "ABX9TyOfR51qnaLLvSC1YNbs5kHd",
      "include_colab_link": true
    },
    "kernelspec": {
      "name": "python3",
      "display_name": "Python 3"
    },
    "language_info": {
      "name": "python"
    }
  },
  "cells": [
    {
      "cell_type": "markdown",
      "metadata": {
        "id": "view-in-github",
        "colab_type": "text"
      },
      "source": [
        "<a href=\"https://colab.research.google.com/github/Sparkashok/Machine-Learning/blob/main/ML_FeatureSelection.ipynb\" target=\"_parent\"><img src=\"https://colab.research.google.com/assets/colab-badge.svg\" alt=\"Open In Colab\"/></a>"
      ]
    },
    {
      "cell_type": "code",
      "execution_count": 1,
      "metadata": {
        "colab": {
          "base_uri": "https://localhost:8080/"
        },
        "id": "3bYbtgkO4eXG",
        "outputId": "da6289f3-038e-43d1-fa54-081a1e4d4faf"
      },
      "outputs": [
        {
          "output_type": "stream",
          "name": "stdout",
          "text": [
            "Feature Variance in Descending Order:\n",
            "petal length (cm): 3.11628\n",
            "sepal length (cm): 0.68569\n",
            "petal width (cm): 0.58101\n",
            "sepal width (cm): 0.18998\n",
            "\n",
            "Correlation Matrix:\n",
            "[[ 1.         -0.11756978  0.87175378  0.81794113]\n",
            " [-0.11756978  1.         -0.4284401  -0.36612593]\n",
            " [ 0.87175378 -0.4284401   1.          0.96286543]\n",
            " [ 0.81794113 -0.36612593  0.96286543  1.        ]]\n",
            "\n",
            "Highest Correlation Pair: ('petal length (cm)', 'petal width (cm)') with value 0.96\n",
            "\n",
            "Average Correlation of Features in Descending Order:\n",
            "petal length (cm): 0.81576\n",
            "petal width (cm): 0.78673\n",
            "sepal length (cm): 0.70182\n",
            "sepal width (cm): 0.47803\n"
          ]
        }
      ],
      "source": [
        "import numpy as np\n",
        "import pandas as pd\n",
        "import matplotlib.pyplot as plt\n",
        "from sklearn.datasets import load_iris\n",
        "\n",
        "# Load dataset\n",
        "iris = load_iris()\n",
        "data = iris.data\n",
        "feature_names = iris.feature_names\n",
        "\n",
        "# 1. Compute variance without using inbuilt function\n",
        "def compute_variance(data):\n",
        "    means = np.mean(data, axis=0)\n",
        "    variance = np.sum((data - means) ** 2, axis=0) / (data.shape[0] - 1)\n",
        "    return variance\n",
        "\n",
        "feature_variance = compute_variance(data)\n",
        "sorted_variance_indices = np.argsort(feature_variance)[::-1]\n",
        "print(\"Feature Variance in Descending Order:\")\n",
        "for i in sorted_variance_indices:\n",
        "    print(f\"{feature_names[i]}: {feature_variance[i]:.5f}\")\n",
        "\n",
        "# 2. Compute correlation matrix without using inbuilt function\n",
        "def compute_correlation_matrix(data):\n",
        "    num_features = data.shape[1]\n",
        "    correlation_matrix = np.zeros((num_features, num_features))\n",
        "    for i in range(num_features):\n",
        "        for j in range(num_features):\n",
        "            mean_i = np.mean(data[:, i])\n",
        "            mean_j = np.mean(data[:, j])\n",
        "            std_i = np.sqrt(np.sum((data[:, i] - mean_i) ** 2) / (data.shape[0] - 1))\n",
        "            std_j = np.sqrt(np.sum((data[:, j] - mean_j) ** 2) / (data.shape[0] - 1))\n",
        "            covariance = np.sum((data[:, i] - mean_i) * (data[:, j] - mean_j)) / (data.shape[0] - 1)\n",
        "            correlation_matrix[i, j] = covariance / (std_i * std_j)\n",
        "    return correlation_matrix\n",
        "\n",
        "correlation_matrix = compute_correlation_matrix(data)\n",
        "print(\"\\nCorrelation Matrix:\")\n",
        "print(correlation_matrix)\n",
        "\n",
        "# 2a. Find the highest correlation pair (excluding diagonal)\n",
        "num_features = data.shape[1]\n",
        "highest_corr = -1\n",
        "highest_pair = None\n",
        "for i in range(num_features):\n",
        "    for j in range(i + 1, num_features):\n",
        "        if correlation_matrix[i, j] > highest_corr:\n",
        "            highest_corr = correlation_matrix[i, j]\n",
        "            highest_pair = (feature_names[i], feature_names[j])\n",
        "\n",
        "print(f\"\\nHighest Correlation Pair: {highest_pair} with value {highest_corr:.2f}\")\n",
        "\n",
        "# 2b. Compute and sort the average correlation of features\n",
        "average_correlation = np.mean(np.abs(correlation_matrix), axis=1)\n",
        "sorted_avg_corr_indices = np.argsort(average_correlation)[::-1]\n",
        "print(\"\\nAverage Correlation of Features in Descending Order:\")\n",
        "for i in sorted_avg_corr_indices:\n",
        "    print(f\"{feature_names[i]}: {average_correlation[i]:.5f}\")\n"
      ]
    }
  ]
}